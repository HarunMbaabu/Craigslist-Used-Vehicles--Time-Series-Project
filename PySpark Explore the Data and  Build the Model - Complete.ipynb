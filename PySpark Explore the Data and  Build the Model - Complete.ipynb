{
 "cells": [
  {
   "cell_type": "code",
   "execution_count": 27,
   "id": "7689a8e7",
   "metadata": {},
   "outputs": [
    {
     "name": "stderr",
     "output_type": "stream",
     "text": [
      "                                                                                \r"
     ]
    }
   ],
   "source": [
    "import pyspark.sql.functions as F\n",
    "import pyspark.sql.types as T\n",
    "\n",
    "# Load the dataset into PySpark\n",
    "spark = SparkSession.builder.appName(\"craigslist_vehicles\").getOrCreate()\n",
    "data = spark.read.csv(\"data/craigslist_vehicles.csv\", header=True, inferSchema=True)\n",
    "\n",
    "# Drop the unnecessary columns\n",
    "columns_to_drop = ['Unnamed: 0', 'url', 'region_url', 'VIN', 'image_url', 'description', 'county', 'lat', 'long', 'removal_date']\n",
    "data = data.drop(*columns_to_drop)\n",
    "\n",
    "# Convert the posting_date column to a datetime type\n",
    "data = data.withColumn(\"posting_date\", F.to_date(data[\"posting_date\"]))"
   ]
  },
  {
   "cell_type": "code",
   "execution_count": 28,
   "id": "9d7f550c",
   "metadata": {},
   "outputs": [
    {
     "ename": "TypeError",
     "evalue": "drop() got an unexpected keyword argument 'columns'",
     "output_type": "error",
     "traceback": [
      "\u001b[0;31m---------------------------------------------------------------------------\u001b[0m",
      "\u001b[0;31mTypeError\u001b[0m                                 Traceback (most recent call last)",
      "\u001b[0;32m/tmp/ipykernel_1436869/968322443.py\u001b[0m in \u001b[0;36m<module>\u001b[0;34m\u001b[0m\n\u001b[1;32m      6\u001b[0m \u001b[0;34m\u001b[0m\u001b[0m\n\u001b[1;32m      7\u001b[0m \u001b[0;31m# drop the existing columns\u001b[0m\u001b[0;34m\u001b[0m\u001b[0;34m\u001b[0m\u001b[0m\n\u001b[0;32m----> 8\u001b[0;31m \u001b[0mdata\u001b[0m \u001b[0;34m=\u001b[0m \u001b[0mdata\u001b[0m\u001b[0;34m.\u001b[0m\u001b[0mdrop\u001b[0m\u001b[0;34m(\u001b[0m\u001b[0mcolumns\u001b[0m\u001b[0;34m=\u001b[0m\u001b[0mcolumns_to_drop_existing\u001b[0m\u001b[0;34m)\u001b[0m\u001b[0;34m\u001b[0m\u001b[0;34m\u001b[0m\u001b[0m\n\u001b[0m\u001b[1;32m      9\u001b[0m \u001b[0;34m\u001b[0m\u001b[0m\n\u001b[1;32m     10\u001b[0m \u001b[0;34m\u001b[0m\u001b[0m\n",
      "\u001b[0;31mTypeError\u001b[0m: drop() got an unexpected keyword argument 'columns'"
     ]
    }
   ],
   "source": [
    "# check if columns exist before dropping\n",
    "columns_to_drop = ['Unnamed: 0', 'url', 'region_url', 'VIN', 'image_url', 'description', 'county', 'lat', 'long', 'removal_date']\n",
    "\n",
    "# filter the columns to drop only those that exist in the DataFrame\n",
    "columns_to_drop_existing = [col for col in columns_to_drop if col in data.columns]\n",
    "\n",
    "# drop the existing columns\n",
    "data = data.drop(columns=columns_to_drop_existing)\n",
    "\n",
    "\n",
    "# convert 'posting_date' to datetime data type\n",
    "data['posting_date'] = pd.to_datetime(data['posting_date'],  utc=True)\n",
    "\n",
    "\n",
    "#preview the first 5 rows of 'craigslist_vehicles.csv' dataset after droping unncessary columns and coverting \"post)time\" to date. \n",
    "data.head()"
   ]
  },
  {
   "cell_type": "code",
   "execution_count": null,
   "id": "d559f9ba",
   "metadata": {},
   "outputs": [],
   "source": []
  }
 ],
 "metadata": {
  "kernelspec": {
   "display_name": "Python 3 (ipykernel)",
   "language": "python",
   "name": "python3"
  },
  "language_info": {
   "codemirror_mode": {
    "name": "ipython",
    "version": 3
   },
   "file_extension": ".py",
   "mimetype": "text/x-python",
   "name": "python",
   "nbconvert_exporter": "python",
   "pygments_lexer": "ipython3",
   "version": "3.9.7"
  }
 },
 "nbformat": 4,
 "nbformat_minor": 5
}
